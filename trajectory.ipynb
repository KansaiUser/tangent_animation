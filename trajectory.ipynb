{
 "cells": [
  {
   "cell_type": "code",
   "execution_count": 1,
   "id": "ddfb8383-5b92-4771-987a-69cad1813e7e",
   "metadata": {},
   "outputs": [],
   "source": [
    "import numpy as np\n",
    "import pandas as pd\n",
    "import matplotlib.pyplot as plt\n",
    "import math"
   ]
  },
  {
   "cell_type": "markdown",
   "id": "26a4cecd-d281-4825-8089-9d9fcf87743a",
   "metadata": {},
   "source": [
    "### Create data for circular trajectories"
   ]
  },
  {
   "cell_type": "code",
   "execution_count": null,
   "id": "0bf086ad-8177-4828-9ce3-7efb303d4330",
   "metadata": {},
   "outputs": [],
   "source": [
    "# # Create data for circles\n",
    "# n_points = 500\n",
    "# theta = np.linspace(0, 2 * np.pi, n_points)\n",
    "\n",
    "# data = pd.DataFrame({\n",
    "#     'X': [10 * np.cos(theta) for theta in np.linspace(0, 2 * np.pi, n_points)],\n",
    "#     'Y': [10 * np.sin(theta) for theta in np.linspace(0, 2 * np.pi, n_points)],\n",
    "#     'XL': [11 * np.cos(theta) for theta in np.linspace(0, 2 * np.pi, n_points)],\n",
    "#     'YL': [11 * np.sin(theta) for theta in np.linspace(0, 2 * np.pi, n_points)],\n",
    "#     'XR': [9 * np.cos(theta) for theta in np.linspace(0, 2 * np.pi, n_points)],\n",
    "#     'YR': [9 * np.sin(theta) for theta in np.linspace(0, 2 * np.pi, n_points)]\n",
    "# })"
   ]
  },
  {
   "cell_type": "markdown",
   "id": "049ce821-f7d3-4aef-9d1d-9a994b40b8bf",
   "metadata": {},
   "source": [
    "# (Alternative) Create data for other trajectory"
   ]
  },
  {
   "cell_type": "code",
   "execution_count": 2,
   "id": "8f343fe7-9686-4025-965d-8f72c6a6d6ef",
   "metadata": {},
   "outputs": [],
   "source": [
    "# Define the number of data points\n",
    "num_points = 500\n",
    "\n",
    "# Create an array of frame numbers from 1 to num_points\n",
    "frame_numbers = np.arange(1, num_points + 1)\n",
    "\n",
    "# Create a parametric equation for a circle with sinusoidal oscillation\n",
    "t = np.linspace(0, 2 * np.pi, num_points)\n",
    "radius = 10.0 # 1.0\n",
    "amplitude = 0.1\n",
    "frequency = 5.0\n",
    "\n",
    "X = radius * (np.cos(t) + amplitude * np.sin(frequency * t))\n",
    "Y = radius * (np.sin(t) + amplitude * np.cos(frequency * t))\n",
    "\n",
    "XL = (radius+1) * (np.cos(t) + amplitude * np.sin(frequency * t))\n",
    "YL = (radius+1) * (np.sin(t) + amplitude * np.cos(frequency * t))\n",
    "XR = (radius-1) * (np.cos(t) + amplitude * np.sin(frequency * t))\n",
    "YR = (radius-1) * (np.sin(t) + amplitude * np.cos(frequency * t))\n",
    "\n",
    "data = pd.DataFrame({'fr': frame_numbers,'X': X, 'Y': Y, 'XL': XL, 'YL': YL, 'XR': XR, 'YR': YR})"
   ]
  },
  {
   "cell_type": "code",
   "execution_count": 3,
   "id": "b2566917-afca-4e0a-9fc0-4f183447fa6a",
   "metadata": {},
   "outputs": [],
   "source": [
    "def calculate_unit_tangent_vector(frame_number):\n",
    "    if frame_number < 0 or frame_number >= num_points:\n",
    "        return None  # Frame number out of range\n",
    "\n",
    "    # Calculate the tangent vector at the specified frame number\n",
    "    dx = X[frame_number + 1] - X[frame_number]\n",
    "    dy = Y[frame_number + 1] - Y[frame_number]\n",
    "    magnitude = np.sqrt(dx**2 + dy**2)\n",
    "\n",
    "    if magnitude == 0:\n",
    "        return (0, 0)  # Avoid division by zero\n",
    "\n",
    "    tangent_vector = (dx / magnitude, dy / magnitude)\n",
    "    return tangent_vector"
   ]
  },
  {
   "cell_type": "code",
   "execution_count": null,
   "id": "30065ece-e31e-4ee4-b8b1-e3c7e7c331a2",
   "metadata": {},
   "outputs": [],
   "source": [
    "# example_frame=0\n",
    "# tangent_vector = calculate_unit_tangent_vector(example_frame)\n",
    "# print(tangent_vector)\n",
    "# print(X[example_frame], Y[example_frame])"
   ]
  },
  {
   "cell_type": "code",
   "execution_count": null,
   "id": "ef551ccc-432d-426c-ae3e-82199d90431d",
   "metadata": {},
   "outputs": [],
   "source": [
    "# # Plot the curve\n",
    "# plt.figure()\n",
    "# plt.plot(data['X'], data['Y'],color='b')\n",
    "# plt.plot(data['XL'], data['YL'],color='r')\n",
    "# plt.plot(data['XR'], data['YR'],color='g')\n",
    "# if tangent_vector is not None:\n",
    "#       x_tangent, y_tangent = X[example_frame], Y[example_frame]\n",
    "#       dx, dy = tangent_vector\n",
    "#       plt.quiver(x_tangent, y_tangent, dx, dy, color='violet', angles='xy', scale_units='xy', scale=1, width=0.005)\n",
    "\n",
    "# # plt.plot(rectangle_x,rectangle_y,color='purple')\n",
    "# # plt.fill(rectangle_x, rectangle_y, color='purple', alpha=0.4)\n",
    "# plt.grid()\n",
    "# plt.axis('equal')"
   ]
  },
  {
   "cell_type": "markdown",
   "id": "0eeaa2ad-81ad-413d-9a5b-b162d3a50505",
   "metadata": {},
   "source": [
    "### Set an example frame"
   ]
  },
  {
   "cell_type": "code",
   "execution_count": 4,
   "id": "6e511705-58cf-4896-93a2-b9c66cb8e034",
   "metadata": {},
   "outputs": [
    {
     "name": "stdout",
     "output_type": "stream",
     "text": [
      "(0.44812484606580094, 0.8939709851770931)\n",
      "10.0 1.0\n"
     ]
    }
   ],
   "source": [
    "example_frame=0\n",
    "tangent_vector = calculate_unit_tangent_vector(example_frame)\n",
    "print(tangent_vector)\n",
    "print(X[example_frame], Y[example_frame])"
   ]
  },
  {
   "cell_type": "code",
   "execution_count": 5,
   "id": "ee1894e6-be43-463d-a132-ccbcc08f8449",
   "metadata": {},
   "outputs": [],
   "source": [
    "XC,YC= X[example_frame], Y[example_frame]\n",
    "XD,YD= tangent_vector\n",
    "width=3\n",
    "height=4"
   ]
  },
  {
   "cell_type": "markdown",
   "id": "b1f64536-7b34-48d8-804d-19765d2d1073",
   "metadata": {},
   "source": [
    "### Define a point where we want to put a vehicle"
   ]
  },
  {
   "cell_type": "code",
   "execution_count": null,
   "id": "98b80d23-ee14-4c5f-b6bb-6897c36027e0",
   "metadata": {},
   "outputs": [],
   "source": [
    "# # Define the rectangle parameters\n",
    "# XC, YC = 7.07, 7.07  # Center of the rectangle\n",
    "# XD, YD = 1, -1  # Direction of the rectangle\n",
    "# width = 3\n",
    "# height = 4\n",
    "\n",
    "# # XC, YC = 0, 10  # Center of the rectangle\n",
    "# # XD, YD = 1, 0  # Direction of the rectangle (horizontal)\n",
    "\n",
    "# # XC, YC = 10, 0  # Center of the rectangle\n",
    "# # XD, YD = 0, -1  # Direction of the rectangle (horizontal)"
   ]
  },
  {
   "cell_type": "markdown",
   "id": "0379560a-8430-4971-bf29-c83d2cc87451",
   "metadata": {},
   "source": [
    "### Set a rectangle around the vehicle"
   ]
  },
  {
   "cell_type": "code",
   "execution_count": null,
   "id": "465db75b-a7bb-4f21-a3ad-5a9a5175eff2",
   "metadata": {},
   "outputs": [],
   "source": [
    "# # Calculate the corner points of the rectangle using trigonometric functions\n",
    "# theta = np.arctan2(YD, XD)\n",
    "# print(\"Angle:\",math.degrees(theta))\n",
    "# cos_theta = np.cos(theta)\n",
    "# sin_theta = np.sin(theta)\n",
    "\n",
    "# rectangle_x = [XC + 0.5 * width * cos_theta - 0.5 * height * sin_theta,\n",
    "#                XC - 0.5 * width * cos_theta - 0.5 * height * sin_theta,\n",
    "#                XC - 0.5 * width * cos_theta + 0.5 * height * sin_theta,\n",
    "#                XC + 0.5 * width * cos_theta + 0.5 * height * sin_theta,\n",
    "#                XC + 0.5 * width * cos_theta - 0.5 * height * sin_theta]\n",
    "\n",
    "# rectangle_y = [YC + 0.5 * width * sin_theta + 0.5 * height * cos_theta,\n",
    "#                YC - 0.5 * width * sin_theta + 0.5 * height * cos_theta,\n",
    "#                YC - 0.5 * width * sin_theta - 0.5 * height * cos_theta,\n",
    "#                YC + 0.5 * width * sin_theta - 0.5 * height * cos_theta,\n",
    "#                YC + 0.5 * width * sin_theta + 0.5 * height * cos_theta]\n"
   ]
  },
  {
   "cell_type": "code",
   "execution_count": 7,
   "id": "c0f4abd7-6e1d-4142-bff3-f2cebb35d38d",
   "metadata": {},
   "outputs": [],
   "source": [
    "def calculate_rectangle(XD,YD,XC,YC):\n",
    "    theta = np.arctan2(YD, XD)\n",
    "    print(\"Angle:\",math.degrees(theta))\n",
    "    cos_theta = np.cos(theta)\n",
    "    sin_theta = np.sin(theta)\n",
    "\n",
    "    rectangle_x = [XC + 0.5 * width * cos_theta - 0.5 * height * sin_theta,\n",
    "                   XC - 0.5 * width * cos_theta - 0.5 * height * sin_theta,\n",
    "                   XC - 0.5 * width * cos_theta + 0.5 * height * sin_theta,\n",
    "                   XC + 0.5 * width * cos_theta + 0.5 * height * sin_theta,\n",
    "                   XC + 0.5 * width * cos_theta - 0.5 * height * sin_theta]\n",
    "    \n",
    "    rectangle_y = [YC + 0.5 * width * sin_theta + 0.5 * height * cos_theta,\n",
    "                   YC - 0.5 * width * sin_theta + 0.5 * height * cos_theta,\n",
    "                   YC - 0.5 * width * sin_theta - 0.5 * height * cos_theta,\n",
    "                   YC + 0.5 * width * sin_theta - 0.5 * height * cos_theta,\n",
    "                   YC + 0.5 * width * sin_theta + 0.5 * height * cos_theta]\n",
    "\n",
    "    return rectangle_x,rectangle_y"
   ]
  },
  {
   "cell_type": "code",
   "execution_count": 9,
   "id": "20313196-313e-4703-afa6-7a04b3138a7d",
   "metadata": {},
   "outputs": [
    {
     "name": "stdout",
     "output_type": "stream",
     "text": [
      "Angle: 63.376560475540785\n"
     ]
    }
   ],
   "source": [
    "rectangle_x,rectangle_y=calculate_rectangle(XD,YD,XC,YC)"
   ]
  },
  {
   "cell_type": "code",
   "execution_count": 10,
   "id": "63929dda-8c07-4f85-b012-2b2f9f7e3417",
   "metadata": {},
   "outputs": [
    {
     "data": {
      "text/plain": [
       "(-12.92399906178537,\n",
       " 13.668897253797567,\n",
       " -12.886304660588708,\n",
       " 12.886819265802737)"
      ]
     },
     "execution_count": 10,
     "metadata": {},
     "output_type": "execute_result"
    },
    {
     "data": {
      "image/png": "[encoded data removed]",
      "text/plain": [
       "<Figure size 640x480 with 1 Axes>"
      ]
     },
     "metadata": {},
     "output_type": "display_data"
    }
   ],
   "source": [
    "# Plot the curve\n",
    "plt.figure()\n",
    "plt.plot(data['X'], data['Y'],color='b')\n",
    "plt.plot(data['XL'], data['YL'],color='r')\n",
    "plt.plot(data['XR'],data['YR'],color='g')\n",
    "if tangent_vector is not None:\n",
    "      x_tangent, y_tangent = X[example_frame], Y[example_frame]\n",
    "      dx, dy = tangent_vector\n",
    "      plt.quiver(x_tangent, y_tangent, dx, dy, color='violet', angles='xy', scale_units='xy', scale=1, width=0.005)\n",
    "\n",
    "plt.plot(rectangle_x,rectangle_y,color='purple')\n",
    "plt.fill(rectangle_x, rectangle_y, color='purple', alpha=0.4)\n",
    "\n",
    "plt.grid()\n",
    "plt.axis('equal')\n"
   ]
  },
  {
   "cell_type": "markdown",
   "id": "4c3b43bd-4255-4970-8e01-b66cc9260dd6",
   "metadata": {},
   "source": [
    "### Extract only the data inside the rectangle"
   ]
  },
  {
   "cell_type": "markdown",
   "id": "4b7a2497-3123-421b-ab55-50ab777447eb",
   "metadata": {},
   "source": [
    "Function to check if points of the trajectories are in or out"
   ]
  },
  {
   "cell_type": "code",
   "execution_count": null,
   "id": "bb5e67c8-a3cb-43fb-ac8e-e8a8ca1c45b4",
   "metadata": {},
   "outputs": [],
   "source": [
    "def isin(X, Y):\n",
    "    X = X - XC\n",
    "    Y = Y - YC\n",
    "    X_ = X*cos_theta + Y*sin_theta\n",
    "    Y_ = -X*sin_theta + Y*cos_theta\n",
    "    return (-width/2 <= X_) & (X_ <= width/2) & (-height/2 <= Y_) & (Y_ <= height/2)"
   ]
  },
  {
   "cell_type": "code",
   "execution_count": null,
   "id": "ecf06372-76db-4da6-8599-9664eab5e749",
   "metadata": {},
   "outputs": [],
   "source": [
    "# we apply the function to isolate the in points\n",
    "m1 = isin(data['X'], data['Y'])\n",
    "m2 = isin(data['XL'], data['YL'])\n",
    "m3 = isin(data['XR'], data['YR'])"
   ]
  },
  {
   "cell_type": "markdown",
   "id": "222774b1-b6ee-4f1e-9fcb-b1f668c6e55c",
   "metadata": {},
   "source": [
    "Plot of the \"in\" points"
   ]
  },
  {
   "cell_type": "code",
   "execution_count": null,
   "id": "59f24583-531c-44d4-a0b1-bf6ae4f609c6",
   "metadata": {},
   "outputs": [],
   "source": [
    "plt.scatter(data.loc[m1, 'X'], data.loc[m1, 'Y'], c='b')\n",
    "plt.scatter(data.loc[m2, 'XL'], data.loc[m2, 'YL'], c='r')\n",
    "plt.scatter(data.loc[m3, 'XR'], data.loc[m3, 'YR'], c='g')\n",
    "\n",
    "plt.plot(rectangle_x, rectangle_y, c='purple')\n",
    "plt.axis('equal')\n",
    "plt.show()"
   ]
  },
  {
   "cell_type": "markdown",
   "id": "552636ed-fa0e-4f8b-bdd7-16c05f9e06e5",
   "metadata": {},
   "source": [
    "### Rotate the plot"
   ]
  },
  {
   "cell_type": "code",
   "execution_count": null,
   "id": "48f0ff2c-1740-47d6-ad8c-c42aef3a5559",
   "metadata": {},
   "outputs": [],
   "source": [
    "# Rotation function\n",
    "def rotate_coordinates(X, Y, angle, XC, YC):\n",
    "    # Convert angle to radians\n",
    "    angle_rad = np.deg2rad(angle)\n",
    "\n",
    "    # Translate to the origin\n",
    "    X_translated = X - XC\n",
    "    Y_translated = Y - YC\n",
    "\n",
    "    # Perform the rotation\n",
    "    X_rotated = X_translated * np.cos(angle_rad) - Y_translated * np.sin(angle_rad)\n",
    "    Y_rotated = X_translated * np.sin(angle_rad) + Y_translated * np.cos(angle_rad)\n",
    "\n",
    "    # Translate back to the original position\n",
    "    X_rotated += XC\n",
    "    Y_rotated += YC\n",
    "\n",
    "    return X_rotated, Y_rotated"
   ]
  },
  {
   "cell_type": "code",
   "execution_count": null,
   "id": "0633c428-04dd-49da-bc64-32b3e5f514ab",
   "metadata": {},
   "outputs": [],
   "source": [
    "print(\"Angle:\",math.degrees(theta))"
   ]
  },
  {
   "cell_type": "code",
   "execution_count": null,
   "id": "2425908e-24e7-408d-a8b7-87b65dd46860",
   "metadata": {},
   "outputs": [],
   "source": [
    "# This angle depends on the previously calculate \n",
    "# angle_degrees=135\n",
    "angle_degrees= 90 - math.degrees(theta)\n",
    "print(\"Angle :\",angle_degrees)\n",
    "rotate_with_parameters= lambda X,Y: rotate_coordinates(X,Y,angle_degrees,XC,YC)\n",
    "rec = list(map(rotate_with_parameters,rectangle_x,rectangle_y))\n",
    "print(rec)\n",
    "# RX = [item[0] for item in rec]\n",
    "# RY = [item[1] for item in rec]\n",
    "# print(RX,RY)\n",
    "\n",
    "RX,RY= zip(*rec)\n",
    "print(RX,RY)"
   ]
  },
  {
   "cell_type": "code",
   "execution_count": null,
   "id": "e8686007-2cbf-4381-8d98-1ccf2d35870e",
   "metadata": {},
   "outputs": [],
   "source": [
    "plt.plot(RX,RY,c='k')\n",
    "XRotated,YRotated=rotate_coordinates(data.loc[m1, 'X'], data.loc[m1, 'Y'], angle_degrees, XC, YC)\n",
    "plt.scatter(XRotated,YRotated,c='b')\n",
    "XLRotated,YLRotated=rotate_coordinates(data.loc[m2, 'XL'], data.loc[m2, 'YL'], angle_degrees, XC, YC)\n",
    "plt.scatter(XLRotated,YLRotated,c='r')\n",
    "XRRotated,YRRotated=rotate_coordinates(data.loc[m3, 'XR'], data.loc[m3, 'YR'], angle_degrees, XC, YC)\n",
    "plt.scatter(XRRotated,YRRotated,c='g')\n",
    "plt.axis('equal')\n",
    "plt.show()"
   ]
  },
  {
   "cell_type": "code",
   "execution_count": null,
   "id": "65a4506f-4ce9-4d2e-994b-44330661bf17",
   "metadata": {},
   "outputs": [],
   "source": []
  }
 ],
 "metadata": {
  "kernelspec": {
   "display_name": "Python 3 (ipykernel)",
   "language": "python",
   "name": "python3"
  },
  "language_info": {
   "codemirror_mode": {
    "name": "ipython",
    "version": 3
   },
   "file_extension": ".py",
   "mimetype": "text/x-python",
   "name": "python",
   "nbconvert_exporter": "python",
   "pygments_lexer": "ipython3",
   "version": "3.9.16"
  }
 },
 "nbformat": 4,
 "nbformat_minor": 5
}
